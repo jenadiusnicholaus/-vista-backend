{
 "cells": [
  {
   "cell_type": "code",
   "execution_count": null,
   "id": "3242dc06-481c-4e03-a61b-49e95a305e6c",
   "metadata": {},
   "outputs": [],
   "source": []
  }
 ],
 "metadata": {
  "kernelspec": {
   "display_name": "",
   "name": ""
  },
  "language_info": {
   "name": ""
  }
 },
 "nbformat": 4,
 "nbformat_minor": 5
}
